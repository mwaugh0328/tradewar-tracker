{
 "cells": [
  {
   "cell_type": "code",
   "execution_count": 1,
   "metadata": {},
   "outputs": [],
   "source": [
    "import pandas as pd             # data package\n",
    "import matplotlib.pyplot as plt # graphics \n",
    "import datetime as dt\n",
    "import numpy as np\n",
    "from census import Census # This is new...\n",
    "\n",
    "import requests, io             # internet and input tools  \n",
    "import zipfile as zf            # zip file tools \n",
    "import os  \n",
    "\n",
    "#import weightedcalcs as wc\n",
    "#import numpy as np\n",
    "\n",
    "import pyarrow as pa\n",
    "import pyarrow.parquet as pq\n",
    " \n",
    "from bokeh.palettes import brewer, Spectral6\n",
    "from bokeh.io import show, output_file, curdoc\n",
    "from bokeh.plotting import figure\n",
    "from bokeh.models import ColumnDataSource, HoverTool, Panel, Tabs, GeoJSONDataSource, LinearColorMapper\n",
    "from bokeh.models import ColorBar\n",
    "from bokeh.layouts import column, gridplot, row\n",
    "from bokeh.transform import factor_cmap\n",
    "from bokeh.models import NumeralTickFormatter, Title, Label, Paragraph, Div, CustomJSHover, BoxAnnotation"
   ]
  },
  {
   "cell_type": "markdown",
   "metadata": {},
   "source": [
    "This notebook plots Canadian Aluminum US imports (which were subject to renewed 232 actions recently), it can also be used as a template for product specific plots (like in this case). Some notes:\n",
    "\n",
    "- This is a good place to see sequencing: https://www.cbp.gov/trade/programs-administration/trade-remedies#\n",
    "\n",
    "- This is the initial time line Canada does not happen till later: https://content.govdelivery.com/accounts/USDHSCBP/bulletins/1e43e86\n",
    "\n",
    "- Then Canada goes no line here June 1: https://content.govdelivery.com/accounts/USDHSCBP/bulletins/1f41b4b\n",
    "\n",
    "- Canada tariff is taken off: https://content.govdelivery.com/accounts/USDHSCBP/bulletins/24602aa\n",
    "\n",
    "- Tarfiff goes back on https://content.govdelivery.com/accounts/USDHSCBP/bulletins/29a1ddd"
   ]
  },
  {
   "cell_type": "code",
   "execution_count": 2,
   "metadata": {},
   "outputs": [],
   "source": [
    "trade_type = \"imports\"\n",
    "\n",
    "my_key = \"&key=34e40301bda77077e24c859c6c6c0b721ad73fc7\"\n",
    "# This is my key. I'm nice and I have it posted. If you will be doing more with this\n",
    "# please get your own key!"
   ]
  },
  {
   "cell_type": "code",
   "execution_count": 3,
   "metadata": {},
   "outputs": [],
   "source": [
    "crl = [\"darkblue\",\"slategray\",\"crimson\"]\n",
    "\n",
    "background = \"#ffffff\""
   ]
  },
  {
   "cell_type": "code",
   "execution_count": 4,
   "metadata": {},
   "outputs": [],
   "source": [
    "last_month = 12"
   ]
  },
  {
   "cell_type": "markdown",
   "metadata": {},
   "source": [
    "---\n",
    "#### Grabe the trade data using the Census's API"
   ]
  },
  {
   "cell_type": "code",
   "execution_count": 5,
   "metadata": {},
   "outputs": [],
   "source": [
    "def census_trade(url, trade_type, country, product_level):\n",
    "    \n",
    "    r = requests.get(url) \n",
    "    \n",
    "    print(r)\n",
    "    \n",
    "    df = pd.DataFrame(r.json()[1:]) # This then converts it to a dataframe\n",
    "    # Note that the first entry is the labels\n",
    "\n",
    "    df.columns = r.json()[0]\n",
    "\n",
    "    df.time = pd.to_datetime(df.time, format=\"%Y-%m\")\n",
    "    # This is so I can call this correctly...\n",
    "    \n",
    "    if trade_type == \"imports\":\n",
    "        \n",
    "        trade_label = country + \"_\" + trade_type\n",
    "        \n",
    "        df[trade_label] = df[\"CON_VAL_MO\"].astype(float)\n",
    "        \n",
    "        df[product_level] = df[\"NAICS\"].astype(str)\n",
    "        \n",
    "        df.drop([\"CON_VAL_MO\", \"NAICS\", \"COMM_LVL\"], axis = 1, inplace = True)\n",
    "        \n",
    "    if trade_type == \"exports\":\n",
    "    \n",
    "        trade_label = country + \"_\" + trade_type\n",
    "        \n",
    "        df[trade_label] = df[\"ALL_VAL_MO\"].astype(float)\n",
    "\n",
    "        df[product_level] = df[\"NAICS\"].astype(str)\n",
    "        \n",
    "        df.drop([\"ALL_VAL_MO\", \"NAICS\", \"COMM_LVL\"], axis = 1, inplace = True)\n",
    "        \n",
    "    if trade_type == \"country_exports\":\n",
    "    \n",
    "        trade_label = \"total_exports\"\n",
    "        \n",
    "        df[trade_label] = df[\"ALL_VAL_MO\"].astype(float)\n",
    "        \n",
    "        df = df[df.SUMMARY_LVL == \"DET\"]\n",
    "        \n",
    "        df.drop([\"ALL_VAL_MO\", \"CTY_CODE\", \"SUMMARY_LVL\"], axis = 1, inplace = True)\n",
    "        \n",
    "        df = df[df.CTY_NAME != \"TOTAL FOR ALL COUNTRIES\"]\n",
    "        \n",
    "    if trade_type == \"country_imports\":\n",
    "    \n",
    "        trade_label = \"total_imports\"\n",
    "        \n",
    "        df[trade_label] = df[\"CON_VAL_MO\"].astype(float)\n",
    "        \n",
    "        #df = df[df.SUMMARY_LVL == \"DET\"]\n",
    "        \n",
    "        df.drop([\"CON_VAL_MO\", \"CTY_CODE\"], axis = 1, inplace = True)    \n",
    "    \n",
    "    return df"
   ]
  },
  {
   "cell_type": "code",
   "execution_count": 6,
   "metadata": {},
   "outputs": [],
   "source": [
    "def growth_trade(foo):\n",
    "    # what this function does is take a dataframe and create a relative \n",
    "    \n",
    "    foo[\"growth\"] = 100*((foo.total_imports/foo.total_imports.shift(12)) - 1)\n",
    "    \n",
    "    return foo"
   ]
  },
  {
   "cell_type": "code",
   "execution_count": 7,
   "metadata": {},
   "outputs": [],
   "source": [
    "def make_trade_time(df):\n",
    "        \n",
    "    foo = df.drop(labels = [\"naics\"], axis = 1).reset_index().pivot(index = \"time\", columns = \"NAICS_LDESC\")\n",
    "    \n",
    "    foo.drop(labels = [\"index\"], axis = 1, inplace = True)\n",
    "    \n",
    "    return foo"
   ]
  },
  {
   "cell_type": "markdown",
   "metadata": {},
   "source": [
    "---\n",
    "### This is the Product Specific plot..."
   ]
  },
  {
   "cell_type": "code",
   "execution_count": 13,
   "metadata": {},
   "outputs": [
    {
     "name": "stdout",
     "output_type": "stream",
     "text": [
      "<Response [500]>\n"
     ]
    },
    {
     "ename": "JSONDecodeError",
     "evalue": "Expecting value: line 1 column 1 (char 0)",
     "output_type": "error",
     "traceback": [
      "\u001b[1;31m---------------------------------------------------------------------------\u001b[0m",
      "\u001b[1;31mJSONDecodeError\u001b[0m                           Traceback (most recent call last)",
      "\u001b[1;32m<ipython-input-13-da96202c13ce>\u001b[0m in \u001b[0;36m<module>\u001b[1;34m\u001b[0m\n\u001b[0;32m     12\u001b[0m \u001b[0murl\u001b[0m \u001b[1;33m=\u001b[0m \u001b[0murl\u001b[0m\u001b[1;33m\u001b[0m\u001b[1;33m\u001b[0m\u001b[0m\n\u001b[0;32m     13\u001b[0m \u001b[1;33m\u001b[0m\u001b[0m\n\u001b[1;32m---> 14\u001b[1;33m \u001b[0mdf\u001b[0m \u001b[1;33m=\u001b[0m \u001b[0mcensus_trade\u001b[0m\u001b[1;33m(\u001b[0m\u001b[0murl\u001b[0m\u001b[1;33m,\u001b[0m\u001b[1;34m\"country_imports\"\u001b[0m\u001b[1;33m,\u001b[0m\u001b[1;34m\"foo\"\u001b[0m\u001b[1;33m,\u001b[0m \u001b[1;34m\"foo\"\u001b[0m\u001b[1;33m)\u001b[0m\u001b[1;33m\u001b[0m\u001b[1;33m\u001b[0m\u001b[0m\n\u001b[0m\u001b[0;32m     15\u001b[0m \u001b[1;33m\u001b[0m\u001b[0m\n\u001b[0;32m     16\u001b[0m \u001b[0mdf\u001b[0m\u001b[1;33m.\u001b[0m\u001b[0mtime\u001b[0m\u001b[1;33m.\u001b[0m\u001b[0mmax\u001b[0m\u001b[1;33m(\u001b[0m\u001b[1;33m)\u001b[0m\u001b[1;33m\u001b[0m\u001b[1;33m\u001b[0m\u001b[0m\n",
      "\u001b[1;32m<ipython-input-5-df37de651c49>\u001b[0m in \u001b[0;36mcensus_trade\u001b[1;34m(url, trade_type, country, product_level)\u001b[0m\n\u001b[0;32m      5\u001b[0m     \u001b[0mprint\u001b[0m\u001b[1;33m(\u001b[0m\u001b[0mr\u001b[0m\u001b[1;33m)\u001b[0m\u001b[1;33m\u001b[0m\u001b[1;33m\u001b[0m\u001b[0m\n\u001b[0;32m      6\u001b[0m \u001b[1;33m\u001b[0m\u001b[0m\n\u001b[1;32m----> 7\u001b[1;33m     \u001b[0mdf\u001b[0m \u001b[1;33m=\u001b[0m \u001b[0mpd\u001b[0m\u001b[1;33m.\u001b[0m\u001b[0mDataFrame\u001b[0m\u001b[1;33m(\u001b[0m\u001b[0mr\u001b[0m\u001b[1;33m.\u001b[0m\u001b[0mjson\u001b[0m\u001b[1;33m(\u001b[0m\u001b[1;33m)\u001b[0m\u001b[1;33m[\u001b[0m\u001b[1;36m1\u001b[0m\u001b[1;33m:\u001b[0m\u001b[1;33m]\u001b[0m\u001b[1;33m)\u001b[0m \u001b[1;31m# This then converts it to a dataframe\u001b[0m\u001b[1;33m\u001b[0m\u001b[1;33m\u001b[0m\u001b[0m\n\u001b[0m\u001b[0;32m      8\u001b[0m     \u001b[1;31m# Note that the first entry is the labels\u001b[0m\u001b[1;33m\u001b[0m\u001b[1;33m\u001b[0m\u001b[1;33m\u001b[0m\u001b[0m\n\u001b[0;32m      9\u001b[0m \u001b[1;33m\u001b[0m\u001b[0m\n",
      "\u001b[1;32mC:\\ProgramData\\Anaconda3\\lib\\site-packages\\requests\\models.py\u001b[0m in \u001b[0;36mjson\u001b[1;34m(self, **kwargs)\u001b[0m\n\u001b[0;32m    896\u001b[0m                     \u001b[1;31m# used.\u001b[0m\u001b[1;33m\u001b[0m\u001b[1;33m\u001b[0m\u001b[1;33m\u001b[0m\u001b[0m\n\u001b[0;32m    897\u001b[0m                     \u001b[1;32mpass\u001b[0m\u001b[1;33m\u001b[0m\u001b[1;33m\u001b[0m\u001b[0m\n\u001b[1;32m--> 898\u001b[1;33m         \u001b[1;32mreturn\u001b[0m \u001b[0mcomplexjson\u001b[0m\u001b[1;33m.\u001b[0m\u001b[0mloads\u001b[0m\u001b[1;33m(\u001b[0m\u001b[0mself\u001b[0m\u001b[1;33m.\u001b[0m\u001b[0mtext\u001b[0m\u001b[1;33m,\u001b[0m \u001b[1;33m**\u001b[0m\u001b[0mkwargs\u001b[0m\u001b[1;33m)\u001b[0m\u001b[1;33m\u001b[0m\u001b[1;33m\u001b[0m\u001b[0m\n\u001b[0m\u001b[0;32m    899\u001b[0m \u001b[1;33m\u001b[0m\u001b[0m\n\u001b[0;32m    900\u001b[0m     \u001b[1;33m@\u001b[0m\u001b[0mproperty\u001b[0m\u001b[1;33m\u001b[0m\u001b[1;33m\u001b[0m\u001b[0m\n",
      "\u001b[1;32mC:\\ProgramData\\Anaconda3\\lib\\json\\__init__.py\u001b[0m in \u001b[0;36mloads\u001b[1;34m(s, encoding, cls, object_hook, parse_float, parse_int, parse_constant, object_pairs_hook, **kw)\u001b[0m\n\u001b[0;32m    346\u001b[0m             \u001b[0mparse_int\u001b[0m \u001b[1;32mis\u001b[0m \u001b[1;32mNone\u001b[0m \u001b[1;32mand\u001b[0m \u001b[0mparse_float\u001b[0m \u001b[1;32mis\u001b[0m \u001b[1;32mNone\u001b[0m \u001b[1;32mand\u001b[0m\u001b[1;33m\u001b[0m\u001b[1;33m\u001b[0m\u001b[0m\n\u001b[0;32m    347\u001b[0m             parse_constant is None and object_pairs_hook is None and not kw):\n\u001b[1;32m--> 348\u001b[1;33m         \u001b[1;32mreturn\u001b[0m \u001b[0m_default_decoder\u001b[0m\u001b[1;33m.\u001b[0m\u001b[0mdecode\u001b[0m\u001b[1;33m(\u001b[0m\u001b[0ms\u001b[0m\u001b[1;33m)\u001b[0m\u001b[1;33m\u001b[0m\u001b[1;33m\u001b[0m\u001b[0m\n\u001b[0m\u001b[0;32m    349\u001b[0m     \u001b[1;32mif\u001b[0m \u001b[0mcls\u001b[0m \u001b[1;32mis\u001b[0m \u001b[1;32mNone\u001b[0m\u001b[1;33m:\u001b[0m\u001b[1;33m\u001b[0m\u001b[1;33m\u001b[0m\u001b[0m\n\u001b[0;32m    350\u001b[0m         \u001b[0mcls\u001b[0m \u001b[1;33m=\u001b[0m \u001b[0mJSONDecoder\u001b[0m\u001b[1;33m\u001b[0m\u001b[1;33m\u001b[0m\u001b[0m\n",
      "\u001b[1;32mC:\\ProgramData\\Anaconda3\\lib\\json\\decoder.py\u001b[0m in \u001b[0;36mdecode\u001b[1;34m(self, s, _w)\u001b[0m\n\u001b[0;32m    335\u001b[0m \u001b[1;33m\u001b[0m\u001b[0m\n\u001b[0;32m    336\u001b[0m         \"\"\"\n\u001b[1;32m--> 337\u001b[1;33m         \u001b[0mobj\u001b[0m\u001b[1;33m,\u001b[0m \u001b[0mend\u001b[0m \u001b[1;33m=\u001b[0m \u001b[0mself\u001b[0m\u001b[1;33m.\u001b[0m\u001b[0mraw_decode\u001b[0m\u001b[1;33m(\u001b[0m\u001b[0ms\u001b[0m\u001b[1;33m,\u001b[0m \u001b[0midx\u001b[0m\u001b[1;33m=\u001b[0m\u001b[0m_w\u001b[0m\u001b[1;33m(\u001b[0m\u001b[0ms\u001b[0m\u001b[1;33m,\u001b[0m \u001b[1;36m0\u001b[0m\u001b[1;33m)\u001b[0m\u001b[1;33m.\u001b[0m\u001b[0mend\u001b[0m\u001b[1;33m(\u001b[0m\u001b[1;33m)\u001b[0m\u001b[1;33m)\u001b[0m\u001b[1;33m\u001b[0m\u001b[1;33m\u001b[0m\u001b[0m\n\u001b[0m\u001b[0;32m    338\u001b[0m         \u001b[0mend\u001b[0m \u001b[1;33m=\u001b[0m \u001b[0m_w\u001b[0m\u001b[1;33m(\u001b[0m\u001b[0ms\u001b[0m\u001b[1;33m,\u001b[0m \u001b[0mend\u001b[0m\u001b[1;33m)\u001b[0m\u001b[1;33m.\u001b[0m\u001b[0mend\u001b[0m\u001b[1;33m(\u001b[0m\u001b[1;33m)\u001b[0m\u001b[1;33m\u001b[0m\u001b[1;33m\u001b[0m\u001b[0m\n\u001b[0;32m    339\u001b[0m         \u001b[1;32mif\u001b[0m \u001b[0mend\u001b[0m \u001b[1;33m!=\u001b[0m \u001b[0mlen\u001b[0m\u001b[1;33m(\u001b[0m\u001b[0ms\u001b[0m\u001b[1;33m)\u001b[0m\u001b[1;33m:\u001b[0m\u001b[1;33m\u001b[0m\u001b[1;33m\u001b[0m\u001b[0m\n",
      "\u001b[1;32mC:\\ProgramData\\Anaconda3\\lib\\json\\decoder.py\u001b[0m in \u001b[0;36mraw_decode\u001b[1;34m(self, s, idx)\u001b[0m\n\u001b[0;32m    353\u001b[0m             \u001b[0mobj\u001b[0m\u001b[1;33m,\u001b[0m \u001b[0mend\u001b[0m \u001b[1;33m=\u001b[0m \u001b[0mself\u001b[0m\u001b[1;33m.\u001b[0m\u001b[0mscan_once\u001b[0m\u001b[1;33m(\u001b[0m\u001b[0ms\u001b[0m\u001b[1;33m,\u001b[0m \u001b[0midx\u001b[0m\u001b[1;33m)\u001b[0m\u001b[1;33m\u001b[0m\u001b[1;33m\u001b[0m\u001b[0m\n\u001b[0;32m    354\u001b[0m         \u001b[1;32mexcept\u001b[0m \u001b[0mStopIteration\u001b[0m \u001b[1;32mas\u001b[0m \u001b[0merr\u001b[0m\u001b[1;33m:\u001b[0m\u001b[1;33m\u001b[0m\u001b[1;33m\u001b[0m\u001b[0m\n\u001b[1;32m--> 355\u001b[1;33m             \u001b[1;32mraise\u001b[0m \u001b[0mJSONDecodeError\u001b[0m\u001b[1;33m(\u001b[0m\u001b[1;34m\"Expecting value\"\u001b[0m\u001b[1;33m,\u001b[0m \u001b[0ms\u001b[0m\u001b[1;33m,\u001b[0m \u001b[0merr\u001b[0m\u001b[1;33m.\u001b[0m\u001b[0mvalue\u001b[0m\u001b[1;33m)\u001b[0m \u001b[1;32mfrom\u001b[0m \u001b[1;32mNone\u001b[0m\u001b[1;33m\u001b[0m\u001b[1;33m\u001b[0m\u001b[0m\n\u001b[0m\u001b[0;32m    356\u001b[0m         \u001b[1;32mreturn\u001b[0m \u001b[0mobj\u001b[0m\u001b[1;33m,\u001b[0m \u001b[0mend\u001b[0m\u001b[1;33m\u001b[0m\u001b[1;33m\u001b[0m\u001b[0m\n",
      "\u001b[1;31mJSONDecodeError\u001b[0m: Expecting value: line 1 column 1 (char 0)"
     ]
    }
   ],
   "source": [
    "#end_use = \"naics?get=NAICS,CON_VAL_MO,CTY_CODE,CTY_NAME,SUMMARY_LVL,NAICS_LDESC\"\n",
    "\n",
    "#url = \"https://api.census.gov/data/timeseries/intltrade/imports/\" + end_use \n",
    "#url = url + my_key + \"&time==from+2013-01\" + \"&COMM_LVL=NA4\" + \"&NAICS=3313\"\n",
    "\n",
    "end_use = \"hs?get=CON_VAL_MO,CTY_CODE,CTY_NAME,I_COMMODITY_LDESC\"\n",
    "\n",
    "url = \"https://api.census.gov/data/timeseries/intltrade/imports/\" + end_use \n",
    "url = url + my_key + \"&time==from+2013-01\" + \"&COMM_LVL=HS10\" + \"&I_COMMODITY=76*\"\n",
    "\n",
    "\n",
    "url = url\n",
    "\n",
    "df = census_trade(url,\"country_imports\",\"foo\", \"foo\")\n",
    "\n",
    "df.time.max()"
   ]
  },
  {
   "cell_type": "code",
   "execution_count": null,
   "metadata": {},
   "outputs": [],
   "source": [
    "df.head()"
   ]
  },
  {
   "cell_type": "code",
   "execution_count": null,
   "metadata": {},
   "outputs": [],
   "source": [
    "df = df[[\"CTY_NAME\",\"time\",\"total_imports\"]]"
   ]
  },
  {
   "cell_type": "code",
   "execution_count": null,
   "metadata": {},
   "outputs": [],
   "source": [
    "df = df.groupby([\"time\", \"CTY_NAME\"])\n",
    "\n",
    "df = df.agg({\"total_imports\": \"sum\"})\n",
    "\n"
   ]
  },
  {
   "cell_type": "code",
   "execution_count": null,
   "metadata": {},
   "outputs": [],
   "source": [
    "df.reset_index(inplace = True)"
   ]
  },
  {
   "cell_type": "code",
   "execution_count": null,
   "metadata": {},
   "outputs": [],
   "source": [
    "df.head()"
   ]
  },
  {
   "cell_type": "code",
   "execution_count": null,
   "metadata": {},
   "outputs": [],
   "source": [
    "clist = [\"TOTAL FOR ALL COUNTRIES\", \"CANADA\"]\n",
    "\n",
    "df = df[df.CTY_NAME.isin(clist)]"
   ]
  },
  {
   "cell_type": "code",
   "execution_count": null,
   "metadata": {},
   "outputs": [],
   "source": [
    "df.head()"
   ]
  },
  {
   "cell_type": "code",
   "execution_count": null,
   "metadata": {},
   "outputs": [],
   "source": [
    "grp = df.groupby([\"CTY_NAME\"])\n",
    "\n",
    "country_df = grp.apply(growth_trade)"
   ]
  },
  {
   "cell_type": "code",
   "execution_count": null,
   "metadata": {},
   "outputs": [],
   "source": [
    "def make_trade_time_country(df):\n",
    "        \n",
    "    foo = df.reset_index().pivot(index = \"time\", columns = \"CTY_NAME\")\n",
    "    \n",
    "    foo.drop(labels = [\"index\"], axis = 1, inplace = True)\n",
    "    \n",
    "    return foo"
   ]
  },
  {
   "cell_type": "code",
   "execution_count": null,
   "metadata": {},
   "outputs": [],
   "source": [
    "def make_time_by_country(df, level):\n",
    "\n",
    "    height = 533\n",
    "    width = 600\n",
    "\n",
    "    foobar = make_trade_time_country(df)\n",
    "    \n",
    "    if level == \"total_imports\":\n",
    "        title = \"$ US Imports from CANADA (HS 76, ALUMINUM AND ARTICLES THEREOF)\"\n",
    "        \n",
    "        foobar.drop([ \"TOTAL FOR ALL COUNTRIES\"], axis = 1, level = 1, inplace = True)\n",
    "    \n",
    "    if level == \"growth\":\n",
    "        title = \"CANADA and TOTAL, % Year over Year Change in US Imports (HS 76, ALUMINUM AND ARTICLES THEREOF)\"\n",
    "    \n",
    "    p = figure(plot_height=height, plot_width = width, x_axis_type=\"datetime\",toolbar_location = 'below',\n",
    "           tools = \"box_zoom, reset, pan, xwheel_zoom\", title = title, x_range = (dt.datetime(2015,1,1),dt.datetime(2020,last_month,1)) ) \n",
    "\n",
    "    numlines=len(foobar[level].columns)\n",
    "\n",
    "    multi_line_source = ColumnDataSource({\n",
    "        'xs': [foobar.index.values]*numlines,\n",
    "        'ys': [foobar[level, name].values for name in foobar[level]],\n",
    "        'label': [name for name in foobar[\"total_imports\"].columns],\n",
    "        'color': [\"crimson\", \"darkblue\"]})\n",
    "\n",
    "    p.multi_line(xs= \"xs\",\n",
    "                ys= \"ys\",\n",
    "                line_width=2.5, line_alpha=0.45, line_color = \"color\",\n",
    "                 hover_line_alpha=0.75, hover_line_width = 5,\n",
    "                hover_line_color= \"color\", source = multi_line_source)\n",
    "    \n",
    "    y_custom = CustomJSHover(code=\"\"\" return '' + special_vars.data_y\n",
    "            \"\"\")\n",
    "            \n",
    "    TIMETOOLTIPS = \"\"\"\n",
    "            <div style=\"background-color:#F5F5F5; opacity: 0.95; border: 5px 5px 5px 5px;\">\n",
    "            <div style = \"text-align:left;\">\n",
    "            <span style=\"font-size: 13px; font-weight: bold\"> @label\n",
    "             </span>\n",
    "             </div>\n",
    "             <div style = \"text-align:left;\">\"\"\"\n",
    "    \n",
    "    if level == \"total_imports\":\n",
    "        TIMETOOLTIPS = TIMETOOLTIPS + \"\"\"\n",
    "            <span style=\"font-size: 13px; font-weight: bold\"> $data_x{%b %Y}:  $data_y{$0.0a}</span>   \n",
    "            </div>\n",
    "            </div>\n",
    "            \"\"\"\n",
    "    if level == \"growth\":\n",
    "        TIMETOOLTIPS = TIMETOOLTIPS + \"\"\"\n",
    "            <span style=\"font-size: 13px; font-weight: bold\"> $data_x{%b %Y}:  $data_y{0.0}%</span>   \n",
    "            </div>\n",
    "            </div>\n",
    "            \"\"\"\n",
    "\n",
    "    p.add_tools(HoverTool(tooltips = TIMETOOLTIPS,  line_policy='nearest', formatters={'$data_x': 'datetime'}))\n",
    "    p.title.text_font_size = '13pt'\n",
    "    p.background_fill_color = background \n",
    "    p.background_fill_alpha = 0.75\n",
    "    p.border_fill_color = background \n",
    "    \n",
    "    \n",
    "    tariffs232_box = BoxAnnotation(left=dt.datetime(2018,5,31), right=dt.datetime(2019,5,20), fill_color='slategray', fill_alpha=0.1)\n",
    "    p.add_layout(tariffs232_box)\n",
    "    \n",
    "    new_tariffs232_box = BoxAnnotation(left=dt.datetime(2020,8,16), right=dt.datetime(2020,12,31), fill_color='slategray', fill_alpha=0.1)\n",
    "    p.add_layout(new_tariffs232_box)\n",
    "    \n",
    "    #p.yaxis.axis_label = \n",
    "    p.yaxis.axis_label_text_font_style = 'bold'\n",
    "    p.yaxis.axis_label_text_font_size = \"13px\"\n",
    "\n",
    "    p.yaxis.minor_tick_line_color = None\n",
    "    \n",
    "    if level == \"total_imports\":\n",
    "        p.yaxis.formatter = NumeralTickFormatter(format=\"($0. a)\")\n",
    "        \n",
    "    if level == \"growth\":\n",
    "        p.y_range.end = 75\n",
    "    \n",
    "    p.outline_line_color = None\n",
    "    p.sizing_mode= \"scale_both\"\n",
    "    p.max_height = height\n",
    "    p.max_width = width\n",
    "    \n",
    "    p.toolbar.active_drag = None\n",
    "    p.toolbar.autohide = True\n",
    "    p.min_border_left = 0\n",
    "    p.min_border_bottom = 0\n",
    "\n",
    "    return p"
   ]
  },
  {
   "cell_type": "code",
   "execution_count": null,
   "metadata": {},
   "outputs": [],
   "source": [
    "clevel = make_time_by_country(country_df, \"total_imports\")\n",
    "    \n",
    "cchange = make_time_by_country(country_df, \"growth\")\n",
    "\n",
    "tab3 = Panel(child= clevel, title=\"Imports in $\")\n",
    "\n",
    "tab4 = Panel(child= cchange, title=\"Imports as % YoY\")\n",
    "\n",
    "output_file('.\\\\docs\\\\' + \"us_imports_alu.html\")\n",
    "\n",
    "div0 = Div(text = \"\"\"Shaded grey area indicates when the Section 232 tariffs, under Proclamation 9704, on Canada went into effect\n",
    "and were removed. Hover over the line with your curser to view month by month values.\"\"\", max_width=555, background = background )\n",
    "div0.sizing_mode= \"scale_both\"\n",
    "        \n",
    "outfig = column(Tabs(tabs=[tab3,  tab4], tabs_location = \"above\"), div0, sizing_mode=\"scale_both\")\n",
    "\n",
    "show(outfig)"
   ]
  },
  {
   "cell_type": "code",
   "execution_count": null,
   "metadata": {},
   "outputs": [],
   "source": []
  },
  {
   "cell_type": "code",
   "execution_count": null,
   "metadata": {},
   "outputs": [],
   "source": []
  }
 ],
 "metadata": {
  "kernelspec": {
   "display_name": "Python 3",
   "language": "python",
   "name": "python3"
  },
  "language_info": {
   "codemirror_mode": {
    "name": "ipython",
    "version": 3
   },
   "file_extension": ".py",
   "mimetype": "text/x-python",
   "name": "python",
   "nbconvert_exporter": "python",
   "pygments_lexer": "ipython3",
   "version": "3.7.3"
  }
 },
 "nbformat": 4,
 "nbformat_minor": 4
}

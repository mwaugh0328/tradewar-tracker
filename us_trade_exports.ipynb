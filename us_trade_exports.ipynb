{
 "cells": [
  {
   "cell_type": "code",
   "execution_count": 1,
   "metadata": {},
   "outputs": [],
   "source": [
    "import pandas as pd             # data package\n",
    "import matplotlib.pyplot as plt # graphics \n",
    "import datetime as dt\n",
    "import numpy as np\n",
    "from census import Census # This is new...\n",
    "\n",
    "import requests, io             # internet and input tools  \n",
    "import zipfile as zf            # zip file tools \n",
    "import os  \n",
    "\n",
    "#import weightedcalcs as wc\n",
    "#import numpy as np\n",
    "\n",
    "import pyarrow as pa\n",
    "import pyarrow.parquet as pq\n",
    " \n",
    "from bokeh.palettes import brewer, Spectral6\n",
    "from bokeh.io import show, output_file, curdoc\n",
    "from bokeh.plotting import figure\n",
    "from bokeh.models import ColumnDataSource, HoverTool, Panel, Tabs, GeoJSONDataSource, LinearColorMapper\n",
    "from bokeh.models import ColorBar\n",
    "from bokeh.layouts import column, gridplot, row\n",
    "from bokeh.transform import factor_cmap\n",
    "from bokeh.models import NumeralTickFormatter, Title, Label, Paragraph, Div, CustomJSHover, BoxAnnotation"
   ]
  },
  {
   "cell_type": "markdown",
   "metadata": {},
   "source": [
    "This file creates the aggregate trade data.\n"
   ]
  },
  {
   "cell_type": "code",
   "execution_count": 2,
   "metadata": {},
   "outputs": [],
   "source": [
    "trade_type = \"exports\"\n",
    "\n",
    "my_key = \"&key=34e40301bda77077e24c859c6c6c0b721ad73fc7\"\n",
    "# This is my key. I'm nice and I have it posted. If you will be doing more with this\n",
    "# please get your own key!"
   ]
  },
  {
   "cell_type": "code",
   "execution_count": 3,
   "metadata": {},
   "outputs": [],
   "source": [
    "crl = [\"darkblue\",\"slategray\",\"crimson\"]\n",
    "\n",
    "background = \"#ffffff\""
   ]
  },
  {
   "cell_type": "code",
   "execution_count": 4,
   "metadata": {},
   "outputs": [],
   "source": [
    "last_month = 7"
   ]
  },
  {
   "cell_type": "markdown",
   "metadata": {},
   "source": [
    "---\n",
    "#### Grabe the trade data using the Census's API"
   ]
  },
  {
   "cell_type": "code",
   "execution_count": 5,
   "metadata": {},
   "outputs": [],
   "source": [
    "def census_trade(url, trade_type, country, product_level):\n",
    "    \n",
    "    r = requests.get(url) \n",
    "    \n",
    "    print(r)\n",
    "    \n",
    "    df = pd.DataFrame(r.json()[1:]) # This then converts it to a dataframe\n",
    "    # Note that the first entry is the labels\n",
    "\n",
    "    df.columns = r.json()[0]\n",
    "\n",
    "    df.time = pd.to_datetime(df.time, format=\"%Y-%m\")\n",
    "    # This is so I can call this correctly...\n",
    "    \n",
    "    if trade_type == \"imports\":\n",
    "        \n",
    "        trade_label = country + \"_\" + trade_type\n",
    "        \n",
    "        df[trade_label] = df[\"CON_VAL_MO\"].astype(float)\n",
    "        \n",
    "        df[product_level] = df[\"I_COMMODITY\"].astype(str)\n",
    "        \n",
    "        df.drop([\"CON_VAL_MO\", \"I_COMMODITY\", \"COMM_LVL\"], axis = 1, inplace = True)\n",
    "        \n",
    "    if trade_type == \"exports\":\n",
    "    \n",
    "        trade_label = country + \"_\" + trade_type\n",
    "        \n",
    "        df[trade_label] = df[\"ALL_VAL_MO\"].astype(float)\n",
    "\n",
    "        df[product_level] = df[\"NAICS\"].astype(str)\n",
    "        \n",
    "        df.drop([\"ALL_VAL_MO\", \"NAICS\", \"COMM_LVL\"], axis = 1, inplace = True)\n",
    "        \n",
    "    if trade_type == \"country_exports\":\n",
    "    \n",
    "        trade_label = \"total_exports\"\n",
    "        \n",
    "        df[trade_label] = df[\"ALL_VAL_MO\"].astype(float)\n",
    "        \n",
    "        df = df[df.SUMMARY_LVL == \"DET\"]\n",
    "        \n",
    "        df.drop([\"ALL_VAL_MO\", \"CTY_CODE\", \"SUMMARY_LVL\"], axis = 1, inplace = True)\n",
    "    \n",
    "    return df"
   ]
  },
  {
   "cell_type": "markdown",
   "metadata": {},
   "source": [
    "---\n",
    "### And this is the Product Plot"
   ]
  },
  {
   "cell_type": "code",
   "execution_count": 8,
   "metadata": {},
   "outputs": [
    {
     "name": "stdout",
     "output_type": "stream",
     "text": [
      "<Response [200]>\n"
     ]
    },
    {
     "data": {
      "text/plain": [
       "Timestamp('2020-05-01 00:00:00')"
      ]
     },
     "execution_count": 8,
     "metadata": {},
     "output_type": "execute_result"
    }
   ],
   "source": [
    "end_use = \"naics?get=NAICS,ALL_VAL_MO,NAICS_LDESC\"\n",
    "\n",
    "url = \"https://api.census.gov/data/timeseries/intltrade/exports/\" + end_use \n",
    "url = url + my_key + \"&time==from+2013-01\" + \"&COMM_LVL=NA3\"\n",
    "\n",
    "url = url\n",
    "\n",
    "df = census_trade(url, trade_type, \"total\", \"naics\")\n",
    "\n",
    "df.time.max()"
   ]
  },
  {
   "cell_type": "code",
   "execution_count": 9,
   "metadata": {},
   "outputs": [
    {
     "data": {
      "text/html": [
       "<div>\n",
       "<style scoped>\n",
       "    .dataframe tbody tr th:only-of-type {\n",
       "        vertical-align: middle;\n",
       "    }\n",
       "\n",
       "    .dataframe tbody tr th {\n",
       "        vertical-align: top;\n",
       "    }\n",
       "\n",
       "    .dataframe thead th {\n",
       "        text-align: right;\n",
       "    }\n",
       "</style>\n",
       "<table border=\"1\" class=\"dataframe\">\n",
       "  <thead>\n",
       "    <tr style=\"text-align: right;\">\n",
       "      <th></th>\n",
       "      <th>NAICS_LDESC</th>\n",
       "      <th>time</th>\n",
       "      <th>total_exports</th>\n",
       "      <th>naics</th>\n",
       "    </tr>\n",
       "  </thead>\n",
       "  <tbody>\n",
       "    <tr>\n",
       "      <th>0</th>\n",
       "      <td>AGRICULTURAL PRODUCTS</td>\n",
       "      <td>2013-01-01</td>\n",
       "      <td>6.842474e+09</td>\n",
       "      <td>111</td>\n",
       "    </tr>\n",
       "    <tr>\n",
       "      <th>1</th>\n",
       "      <td>LIVESTOCK AND LIVESTOCK PRODUCTS</td>\n",
       "      <td>2013-01-01</td>\n",
       "      <td>1.799594e+08</td>\n",
       "      <td>112</td>\n",
       "    </tr>\n",
       "    <tr>\n",
       "      <th>2</th>\n",
       "      <td>FORESTRY PRODUCTS, NESOI</td>\n",
       "      <td>2013-01-01</td>\n",
       "      <td>1.868489e+08</td>\n",
       "      <td>113</td>\n",
       "    </tr>\n",
       "    <tr>\n",
       "      <th>3</th>\n",
       "      <td>FISH, FRESH, CHILLED, OR FROZEN AND OTHER MARI...</td>\n",
       "      <td>2013-01-01</td>\n",
       "      <td>2.319035e+08</td>\n",
       "      <td>114</td>\n",
       "    </tr>\n",
       "    <tr>\n",
       "      <th>4</th>\n",
       "      <td>OIL AND GAS</td>\n",
       "      <td>2013-01-01</td>\n",
       "      <td>1.257241e+09</td>\n",
       "      <td>211</td>\n",
       "    </tr>\n",
       "  </tbody>\n",
       "</table>\n",
       "</div>"
      ],
      "text/plain": [
       "                                         NAICS_LDESC       time  \\\n",
       "0                              AGRICULTURAL PRODUCTS 2013-01-01   \n",
       "1                   LIVESTOCK AND LIVESTOCK PRODUCTS 2013-01-01   \n",
       "2                           FORESTRY PRODUCTS, NESOI 2013-01-01   \n",
       "3  FISH, FRESH, CHILLED, OR FROZEN AND OTHER MARI... 2013-01-01   \n",
       "4                                        OIL AND GAS 2013-01-01   \n",
       "\n",
       "   total_exports naics  \n",
       "0   6.842474e+09   111  \n",
       "1   1.799594e+08   112  \n",
       "2   1.868489e+08   113  \n",
       "3   2.319035e+08   114  \n",
       "4   1.257241e+09   211  "
      ]
     },
     "execution_count": 9,
     "metadata": {},
     "output_type": "execute_result"
    }
   ],
   "source": [
    "df.head()"
   ]
  },
  {
   "cell_type": "code",
   "execution_count": 10,
   "metadata": {},
   "outputs": [],
   "source": [
    "#end_use = \"hs?get=E_COMMODITY,ALL_VAL_MO,E_COMMODITY_SDESC\"\n",
    "\n",
    "#url = \"https://api.census.gov/data/timeseries/intltrade/exports/\" + end_use \n",
    "#url = url + my_key + \"&time==from+2013-01\" + \"&COMM_LVL=HS2\"\n",
    "\n",
    "#url = url\n",
    "\n",
    "#df = census_trade(url, trade_type, \"total\", \"hs2\")\n",
    "\n",
    "#df.time.max()"
   ]
  },
  {
   "cell_type": "code",
   "execution_count": 11,
   "metadata": {},
   "outputs": [],
   "source": [
    "def growth_exports(foo):\n",
    "    # what this function does is take a dataframe and create a relative \n",
    "    \n",
    "    foo[\"growth\"] = 100*((foo.total_exports/foo.total_exports.shift(12)) - 1)\n",
    "    \n",
    "    return foo"
   ]
  },
  {
   "cell_type": "code",
   "execution_count": 12,
   "metadata": {},
   "outputs": [],
   "source": [
    "def make_trade_time(df):\n",
    "        \n",
    "    foo = df.drop(labels = [\"naics\"], axis = 1).reset_index().pivot(index = \"time\", columns = \"NAICS_LDESC\")\n",
    "    \n",
    "    foo.drop(labels = [\"index\"], axis = 1, inplace = True)\n",
    "    \n",
    "    return foo"
   ]
  },
  {
   "cell_type": "code",
   "execution_count": 13,
   "metadata": {},
   "outputs": [],
   "source": [
    "grp = df.groupby([\"naics\"])\n",
    "\n",
    "top_products = grp.agg({\"total_exports\":\"sum\"})\n",
    "\n",
    "plist = list(top_products.sort_values(by = \"total_exports\", ascending = False).index.values)[0:9]\n",
    "\n",
    "df = df[df.naics.isin(plist)]"
   ]
  },
  {
   "cell_type": "code",
   "execution_count": 14,
   "metadata": {},
   "outputs": [],
   "source": [
    "grp = df.groupby([\"naics\"])\n",
    "\n",
    "productdf = grp.apply(growth_exports)"
   ]
  },
  {
   "cell_type": "code",
   "execution_count": 15,
   "metadata": {},
   "outputs": [],
   "source": [
    "def make_time_by_product(indf, level):\n",
    "\n",
    "    height = 533\n",
    "    width = 625\n",
    "\n",
    "    foobar = make_trade_time(indf)\n",
    "    \n",
    "    if level == \"total_exports\":\n",
    "        title = \"By Product (NAICS 3), $ US Exports\"\n",
    "    \n",
    "    if level == \"growth\":\n",
    "        title = \"By Product (NAICS 3), % Year over Year Change in US Exports \"\n",
    "    \n",
    "    p = figure(plot_height=height, plot_width = width, x_axis_type=\"datetime\",toolbar_location = 'below',\n",
    "           tools = \"box_zoom, reset, pan, xwheel_zoom\", title = title, x_range = (dt.datetime(2019,1,1),dt.datetime(2020,last_month,1)) ) \n",
    "\n",
    "    numlines=len(foobar[level].columns)\n",
    "\n",
    "    multi_line_source = ColumnDataSource({\n",
    "        'xs': [foobar.index.values]*numlines,\n",
    "        'ys': [foobar[level, name].values for name in foobar[level]],\n",
    "        'label': [name for name in foobar[\"total_exports\"].columns]})\n",
    "\n",
    "    p.multi_line(xs= \"xs\",\n",
    "                ys= \"ys\",\n",
    "                line_width=2.5, line_alpha=0.45, line_color = \"slategray\",\n",
    "                 hover_line_alpha=0.75, hover_line_width = 5,\n",
    "                hover_line_color= \"crimson\", source = multi_line_source)\n",
    "    \n",
    "    y_custom = CustomJSHover(code=\"\"\" return '' + special_vars.data_y\n",
    "            \"\"\")\n",
    "            \n",
    "    TIMETOOLTIPS = \"\"\"\n",
    "            <div style=\"background-color:#F5F5F5; opacity: 0.95; border: 5px 5px 5px 5px;\">\n",
    "            <div style = \"text-align:left;\">\n",
    "            <span style=\"font-size: 13px; font-weight: bold\"> @label\n",
    "             </span>\n",
    "             </div>\n",
    "             <div style = \"text-align:left;\">\"\"\"\n",
    "    \n",
    "    if level == \"total_exports\":\n",
    "        TIMETOOLTIPS = TIMETOOLTIPS + \"\"\"\n",
    "            <span style=\"font-size: 13px; font-weight: bold\"> $data_x{%b %Y}:  $data_y{$0.0a}</span>   \n",
    "            </div>\n",
    "            </div>\n",
    "            \"\"\"\n",
    "    if level == \"growth\":\n",
    "        TIMETOOLTIPS = TIMETOOLTIPS + \"\"\"\n",
    "            <span style=\"font-size: 13px; font-weight: bold\"> $data_x{%b %Y}:  $data_y{0.0}%</span>   \n",
    "            </div>\n",
    "            </div>\n",
    "            \"\"\"\n",
    "\n",
    "    p.add_tools(HoverTool(tooltips = TIMETOOLTIPS,  line_policy='nearest', formatters={'$data_x': 'datetime'}))\n",
    "    p.title.text_font_size = '13pt'\n",
    "    p.background_fill_color = background \n",
    "    p.background_fill_alpha = 0.75\n",
    "    p.border_fill_color = background \n",
    "    \n",
    "    #tradewar_box = BoxAnnotation(left=dt.datetime(2018,7,1), right=dt.datetime(2019,10,11), fill_color='red', fill_alpha=0.1)\n",
    "    #p.add_layout(tradewar_box)\n",
    "    \n",
    "    pandemic_box = BoxAnnotation(left=dt.datetime(2020,3,1), right=dt.datetime(2020,12,31), fill_color='red', fill_alpha=0.1)\n",
    "    p.add_layout(pandemic_box)\n",
    "    \n",
    "    #p.yaxis.axis_label = \n",
    "    p.yaxis.axis_label_text_font_style = 'bold'\n",
    "    p.yaxis.axis_label_text_font_size = \"13px\"\n",
    "\n",
    "    p.yaxis.minor_tick_line_color = None\n",
    "\n",
    "    \n",
    "    div0 = Div(text = \"\"\"Each line is a 3 digit NAICS catagory. Only the top 10 catagories are shown. Red is the start of the NBER\n",
    "    determined recession and Covid-19 pandemic in the US.\"\"\", width=555, background = background )\n",
    "    div0.sizing_mode= \"scale_both\"\n",
    "    \n",
    "    if level == \"total_exports\":\n",
    "        p.yaxis.formatter = NumeralTickFormatter(format=\"($0. a)\")\n",
    "    \n",
    "    p.toolbar.autohide = True\n",
    "    p.toolbar.active_drag = None\n",
    "    \n",
    "    p.outline_line_color = None\n",
    "    p.sizing_mode= \"scale_both\"\n",
    "    p.max_height = height\n",
    "    p.max_width = width\n",
    "\n",
    "    return p"
   ]
  },
  {
   "cell_type": "markdown",
   "metadata": {},
   "source": [
    "---\n",
    "### This is the Country plot..."
   ]
  },
  {
   "cell_type": "code",
   "execution_count": 16,
   "metadata": {},
   "outputs": [
    {
     "name": "stdout",
     "output_type": "stream",
     "text": [
      "<Response [200]>\n"
     ]
    },
    {
     "data": {
      "text/plain": [
       "Timestamp('2020-05-01 00:00:00')"
      ]
     },
     "execution_count": 16,
     "metadata": {},
     "output_type": "execute_result"
    }
   ],
   "source": [
    "end_use = \"naics?get=ALL_VAL_MO,CTY_CODE,CTY_NAME,SUMMARY_LVL\"\n",
    "\n",
    "url = \"https://api.census.gov/data/timeseries/intltrade/exports/\" + end_use \n",
    "url = url + my_key + \"&time==from+2013-01\"\n",
    "\n",
    "url = url\n",
    "\n",
    "df = census_trade(url,\"country_exports\",\"foo\", \"foo\")\n",
    "\n",
    "df.time.max()"
   ]
  },
  {
   "cell_type": "code",
   "execution_count": 17,
   "metadata": {},
   "outputs": [],
   "source": [
    "grp = df.groupby([\"CTY_NAME\"])\n",
    "\n",
    "top_products = grp.agg({\"total_exports\":\"sum\"})\n",
    "\n",
    "clist = list(top_products.sort_values(by = \"total_exports\", ascending = False).index.values)[0:11]\n",
    "\n",
    "df = df[df.CTY_NAME.isin(clist)]"
   ]
  },
  {
   "cell_type": "code",
   "execution_count": 18,
   "metadata": {},
   "outputs": [],
   "source": [
    "grp = df.groupby([\"CTY_NAME\"])\n",
    "\n",
    "country_df = grp.apply(growth_exports)"
   ]
  },
  {
   "cell_type": "code",
   "execution_count": 19,
   "metadata": {},
   "outputs": [
    {
     "data": {
      "text/html": [
       "<div>\n",
       "<style scoped>\n",
       "    .dataframe tbody tr th:only-of-type {\n",
       "        vertical-align: middle;\n",
       "    }\n",
       "\n",
       "    .dataframe tbody tr th {\n",
       "        vertical-align: top;\n",
       "    }\n",
       "\n",
       "    .dataframe thead th {\n",
       "        text-align: right;\n",
       "    }\n",
       "</style>\n",
       "<table border=\"1\" class=\"dataframe\">\n",
       "  <thead>\n",
       "    <tr style=\"text-align: right;\">\n",
       "      <th></th>\n",
       "      <th>CTY_NAME</th>\n",
       "      <th>time</th>\n",
       "      <th>total_exports</th>\n",
       "      <th>growth</th>\n",
       "    </tr>\n",
       "  </thead>\n",
       "  <tbody>\n",
       "    <tr>\n",
       "      <th>2</th>\n",
       "      <td>GERMANY</td>\n",
       "      <td>2013-01-01</td>\n",
       "      <td>3.788548e+09</td>\n",
       "      <td>NaN</td>\n",
       "    </tr>\n",
       "    <tr>\n",
       "      <th>54</th>\n",
       "      <td>TOTAL FOR ALL COUNTRIES</td>\n",
       "      <td>2013-01-01</td>\n",
       "      <td>1.230319e+11</td>\n",
       "      <td>NaN</td>\n",
       "    </tr>\n",
       "    <tr>\n",
       "      <th>69</th>\n",
       "      <td>CANADA</td>\n",
       "      <td>2013-01-01</td>\n",
       "      <td>2.317085e+10</td>\n",
       "      <td>NaN</td>\n",
       "    </tr>\n",
       "    <tr>\n",
       "      <th>71</th>\n",
       "      <td>MEXICO</td>\n",
       "      <td>2013-01-01</td>\n",
       "      <td>1.790245e+10</td>\n",
       "      <td>NaN</td>\n",
       "    </tr>\n",
       "    <tr>\n",
       "      <th>113</th>\n",
       "      <td>BRAZIL</td>\n",
       "      <td>2013-01-01</td>\n",
       "      <td>3.071315e+09</td>\n",
       "      <td>NaN</td>\n",
       "    </tr>\n",
       "  </tbody>\n",
       "</table>\n",
       "</div>"
      ],
      "text/plain": [
       "                    CTY_NAME       time  total_exports  growth\n",
       "2                    GERMANY 2013-01-01   3.788548e+09     NaN\n",
       "54   TOTAL FOR ALL COUNTRIES 2013-01-01   1.230319e+11     NaN\n",
       "69                    CANADA 2013-01-01   2.317085e+10     NaN\n",
       "71                    MEXICO 2013-01-01   1.790245e+10     NaN\n",
       "113                   BRAZIL 2013-01-01   3.071315e+09     NaN"
      ]
     },
     "execution_count": 19,
     "metadata": {},
     "output_type": "execute_result"
    }
   ],
   "source": [
    "country_df.head()"
   ]
  },
  {
   "cell_type": "code",
   "execution_count": 20,
   "metadata": {},
   "outputs": [],
   "source": [
    "def make_trade_time_country(df):\n",
    "        \n",
    "    foo = df.reset_index().pivot(index = \"time\", columns = \"CTY_NAME\")\n",
    "    \n",
    "    foo.drop(labels = [\"index\"], axis = 1, inplace = True)\n",
    "    \n",
    "    return foo"
   ]
  },
  {
   "cell_type": "code",
   "execution_count": 21,
   "metadata": {},
   "outputs": [],
   "source": [
    "def make_time_by_country(df, level):\n",
    "\n",
    "    height = 533\n",
    "    width = 625\n",
    "\n",
    "    foobar = make_trade_time_country(df)\n",
    "    \n",
    "    if level == \"total_exports\":\n",
    "        title = \"By Destination Country, $ US Exports\"\n",
    "        foobar.drop([ \"TOTAL FOR ALL COUNTRIES\"], axis = 1, level = 1, inplace = True)\n",
    "    \n",
    "    if level == \"growth\":\n",
    "        title = \"By Destination Country, % Year over Year Change in US Exports\"\n",
    "    \n",
    "    p = figure(plot_height=height, plot_width = width, x_axis_type=\"datetime\",toolbar_location = 'below',\n",
    "           tools = \"box_zoom, reset, pan, xwheel_zoom\", title = title, x_range = (dt.datetime(2019,1,1),dt.datetime(2020,last_month,1)) ) \n",
    "\n",
    "    numlines=len(foobar[level].columns)\n",
    "\n",
    "    multi_line_source = ColumnDataSource({\n",
    "        'xs': [foobar.index.values]*numlines,\n",
    "        'ys': [foobar[level, name].values for name in foobar[level]],\n",
    "        'label': [name for name in foobar[\"total_exports\"].columns]})\n",
    "\n",
    "    p.multi_line(xs= \"xs\",\n",
    "                ys= \"ys\",\n",
    "                line_width=2.5, line_alpha=0.45, line_color = \"slategray\",\n",
    "                 hover_line_alpha=0.75, hover_line_width = 5,\n",
    "                hover_line_color= \"crimson\", source = multi_line_source)\n",
    "    \n",
    "    y_custom = CustomJSHover(code=\"\"\" return '' + special_vars.data_y\n",
    "            \"\"\")\n",
    "            \n",
    "    TIMETOOLTIPS = \"\"\"\n",
    "            <div style=\"background-color:#F5F5F5; opacity: 0.95; border: 5px 5px 5px 5px;\">\n",
    "            <div style = \"text-align:left;\">\n",
    "            <span style=\"font-size: 13px; font-weight: bold\"> @label\n",
    "             </span>\n",
    "             </div>\n",
    "             <div style = \"text-align:left;\">\"\"\"\n",
    "    \n",
    "    if level == \"total_exports\":\n",
    "        TIMETOOLTIPS = TIMETOOLTIPS + \"\"\"\n",
    "            <span style=\"font-size: 13px; font-weight: bold\"> $data_x{%b %Y}:  $data_y{$0.0a}</span>   \n",
    "            </div>\n",
    "            </div>\n",
    "            \"\"\"\n",
    "    if level == \"growth\":\n",
    "        TIMETOOLTIPS = TIMETOOLTIPS + \"\"\"\n",
    "            <span style=\"font-size: 13px; font-weight: bold\"> $data_x{%b %Y}:  $data_y{0.0}%</span>   \n",
    "            </div>\n",
    "            </div>\n",
    "            \"\"\"\n",
    "\n",
    "    p.add_tools(HoverTool(tooltips = TIMETOOLTIPS,  line_policy='nearest', formatters={'$data_x': 'datetime'}))\n",
    "    p.title.text_font_size = '13pt'\n",
    "    p.background_fill_color = background \n",
    "    p.background_fill_alpha = 0.75\n",
    "    p.border_fill_color = background \n",
    "    \n",
    "    #tradewar_box = BoxAnnotation(left=dt.datetime(2018,7,1), right=dt.datetime(2019,10,11), fill_color='red', fill_alpha=0.1)\n",
    "    #p.add_layout(tradewar_box)\n",
    "    \n",
    "    pandemic_box = BoxAnnotation(left=dt.datetime(2020,3,1), right=dt.datetime(2020,12,31), fill_color='red', fill_alpha=0.1)\n",
    "    p.add_layout(pandemic_box)\n",
    "    \n",
    "    #p.yaxis.axis_label = \n",
    "    p.yaxis.axis_label_text_font_style = 'bold'\n",
    "    p.yaxis.axis_label_text_font_size = \"13px\"\n",
    "\n",
    "    p.yaxis.minor_tick_line_color = None\n",
    "\n",
    "    div0 = Div(text = \"\"\"Right panel: Each line is an export country-destination. Only the top 10 export destinations are shown. Left panel:\n",
    "    Each line is a 3 digit NAICS catagory; only the top 10 catagories are shown. Red is the start of the NBER\n",
    "    determined recession and Covid-19 pandemic in the US.\"\"\", max_width=555, background = background )\n",
    "    \n",
    "    div0.sizing_mode= \"scale_both\"\n",
    "    \n",
    "    if level == \"total_exports\":\n",
    "        p.yaxis.formatter = NumeralTickFormatter(format=\"($0. a)\")\n",
    "    \n",
    "    p.outline_line_color = None\n",
    "    \n",
    "    p.toolbar.active_drag = None\n",
    "    p.toolbar.autohide = True\n",
    "    \n",
    "    p.sizing_mode= \"scale_both\"\n",
    "    p.max_height = height\n",
    "    p.max_width = width\n",
    "    #p.WheelZoomTool.maintain_focus = False\n",
    "    #print(p.y_range.end)\n",
    "\n",
    "    return p"
   ]
  },
  {
   "cell_type": "code",
   "execution_count": 22,
   "metadata": {},
   "outputs": [],
   "source": [
    "def make_panel_fig():\n",
    "    \n",
    "    plevel = make_time_by_product(productdf, \"total_exports\")\n",
    "    \n",
    "    pchange = make_time_by_product(productdf, \"growth\")\n",
    "    \n",
    "    #################################################################33\n",
    "    \n",
    "    clevel = make_time_by_country(country_df, \"total_exports\")\n",
    "    \n",
    "    cchange = make_time_by_country(country_df, \"growth\")\n",
    "    \n",
    "    #################################################################\n",
    "    \n",
    "    tab1 = Panel(child= plevel, title=\"Exports in $\")\n",
    "\n",
    "    tab2 = Panel(child= pchange, title=\"Exports as % YoY\")\n",
    "        \n",
    "    tab3 = Panel(child= clevel, title=\"Exports in $\")\n",
    "\n",
    "    tab4 = Panel(child= cchange, title=\"Exports as % YoY\")\n",
    "        \n",
    "    outfig = row(Tabs(tabs=[tab4,  tab3], tabs_location = \"above\"), Tabs(tabs=[tab2,  tab1], tabs_location = \"above\"))\n",
    "    \n",
    "    return outfig"
   ]
  },
  {
   "cell_type": "code",
   "execution_count": 23,
   "metadata": {},
   "outputs": [],
   "source": [
    "output_file('.\\\\docs\\\\' + \"us_exports.html\")\n",
    "\n",
    "outfig = make_panel_fig()\n",
    "\n",
    "show(outfig)"
   ]
  },
  {
   "cell_type": "code",
   "execution_count": null,
   "metadata": {},
   "outputs": [],
   "source": []
  }
 ],
 "metadata": {
  "kernelspec": {
   "display_name": "Python 3",
   "language": "python",
   "name": "python3"
  },
  "language_info": {
   "codemirror_mode": {
    "name": "ipython",
    "version": 3
   },
   "file_extension": ".py",
   "mimetype": "text/x-python",
   "name": "python",
   "nbconvert_exporter": "python",
   "pygments_lexer": "ipython3",
   "version": "3.7.3"
  }
 },
 "nbformat": 4,
 "nbformat_minor": 4
}

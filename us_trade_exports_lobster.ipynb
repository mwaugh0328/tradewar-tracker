{
 "cells": [
  {
   "cell_type": "code",
   "execution_count": 1,
   "metadata": {},
   "outputs": [],
   "source": [
    "import pandas as pd             # data package\n",
    "import matplotlib.pyplot as plt # graphics \n",
    "import datetime as dt\n",
    "import numpy as np\n",
    "from census import Census # This is new...\n",
    "\n",
    "import requests, io             # internet and input tools  \n",
    "import zipfile as zf            # zip file tools \n",
    "import os  \n",
    "\n",
    "#import weightedcalcs as wc\n",
    "#import numpy as np\n",
    "\n",
    "import pyarrow as pa\n",
    "import pyarrow.parquet as pq\n",
    " \n",
    "from bokeh.palettes import brewer, Spectral6\n",
    "from bokeh.io import show, output_file, curdoc\n",
    "from bokeh.plotting import figure\n",
    "from bokeh.models import ColumnDataSource, HoverTool, Panel, Tabs, GeoJSONDataSource, LinearColorMapper\n",
    "from bokeh.models import ColorBar\n",
    "from bokeh.layouts import column, gridplot, row\n",
    "from bokeh.transform import factor_cmap\n",
    "from bokeh.models import NumeralTickFormatter, Title, Label, Paragraph, Div, CustomJSHover, BoxAnnotation"
   ]
  },
  {
   "cell_type": "markdown",
   "metadata": {},
   "source": [
    "This notebook grabs lobster exports and then illustrates what is going on with them"
   ]
  },
  {
   "cell_type": "code",
   "execution_count": 2,
   "metadata": {},
   "outputs": [],
   "source": [
    "trade_type = \"exports\"\n",
    "\n",
    "my_key = \"&key=34e40301bda77077e24c859c6c6c0b721ad73fc7\"\n",
    "# This is my key. I'm nice and I have it posted. If you will be doing more with this\n",
    "# please get your own key!"
   ]
  },
  {
   "cell_type": "code",
   "execution_count": 3,
   "metadata": {},
   "outputs": [],
   "source": [
    "crl = [\"darkblue\",\"slategray\",\"crimson\"]\n",
    "\n",
    "background = \"#ffffff\""
   ]
  },
  {
   "cell_type": "code",
   "execution_count": 4,
   "metadata": {},
   "outputs": [],
   "source": [
    "last_month = 12"
   ]
  },
  {
   "cell_type": "markdown",
   "metadata": {},
   "source": [
    "---\n",
    "#### Grabe the trade data using the Census's API"
   ]
  },
  {
   "cell_type": "code",
   "execution_count": 5,
   "metadata": {},
   "outputs": [],
   "source": [
    "def census_trade(url, trade_type, product_level):\n",
    "    \n",
    "    r = requests.get(url) \n",
    "    \n",
    "    print(r)\n",
    "    \n",
    "    df = pd.DataFrame(r.json()[1:]) # This then converts it to a dataframe\n",
    "    # Note that the first entry is the labels\n",
    "\n",
    "    df.columns = r.json()[0]\n",
    "\n",
    "    df.time = pd.to_datetime(df.time, format=\"%Y-%m\")\n",
    "    # This is so I can call this correctly...\n",
    "    \n",
    "    if trade_type == \"imports\":\n",
    "        \n",
    "        trade_label = trade_type\n",
    "        \n",
    "        df[trade_label] = df[\"CON_VAL_MO\"].astype(float)\n",
    "        \n",
    "        df[product_level] = df[\"I_COMMODITY\"].astype(str)\n",
    "        \n",
    "        df.drop([\"CON_VAL_MO\", \"I_COMMODITY\", \"COMM_LVL\"], axis = 1, inplace = True)\n",
    "        \n",
    "    if trade_type == \"exports\":\n",
    "    \n",
    "        trade_label = trade_type\n",
    "        \n",
    "        df[trade_label] = df[\"ALL_VAL_MO\"].astype(float)\n",
    "\n",
    "        df[product_level] = df[\"E_COMMODITY\"].astype(str)        \n",
    "        \n",
    "        df.drop([\"ALL_VAL_MO\", \"E_COMMODITY\", \"CTY_CODE\", \"COMM_LVL\"], axis = 1, inplace = True)\n",
    "    \n",
    "    return df"
   ]
  },
  {
   "cell_type": "code",
   "execution_count": 6,
   "metadata": {},
   "outputs": [],
   "source": [
    "def growth_trade(foo):\n",
    "    # what this function does is take a dataframe and create a relative \n",
    "    \n",
    "    foo[\"growth\"] = 100*((foo.exports/foo.exports.shift(12)) - 1)\n",
    "    \n",
    "    return foo"
   ]
  },
  {
   "cell_type": "markdown",
   "metadata": {},
   "source": [
    "---\n",
    "### This is the Product Specific plot..."
   ]
  },
  {
   "cell_type": "code",
   "execution_count": 7,
   "metadata": {},
   "outputs": [
    {
     "name": "stdout",
     "output_type": "stream",
     "text": [
      "<Response [200]>\n"
     ]
    }
   ],
   "source": [
    "end_use = \"hs?get=ALL_VAL_MO,CTY_CODE,CTY_NAME\"\n",
    "\n",
    "url = \"https://api.census.gov/data/timeseries/intltrade/exports/\" + end_use \n",
    "url = url + my_key + \"&time==from+2013-01\" + \"&COMM_LVL=HS4\" + \"&E_COMMODITY=0306\"\n",
    "\n",
    "url = url\n",
    "\n",
    "url = url\n",
    "\n",
    "df = census_trade(url,\"exports\",\"hs4\")"
   ]
  },
  {
   "cell_type": "code",
   "execution_count": 8,
   "metadata": {},
   "outputs": [
    {
     "data": {
      "text/plain": [
       "array(['TOTAL FOR ALL COUNTRIES', 'GREENLAND', 'CANADA', 'MEXICO',\n",
       "       'GUATEMALA', 'BELIZE', 'EL SALVADOR', 'HONDURAS', 'NICARAGUA',\n",
       "       'COSTA RICA', 'PANAMA', 'BERMUDA', 'BAHAMAS', 'JAMAICA',\n",
       "       'TURKS AND CAICOS ISLANDS', 'CAYMAN ISLANDS', 'HAITI',\n",
       "       'DOMINICAN REPUBLIC', 'ANGUILLA', 'BRITISH VIRGIN ISLANDS',\n",
       "       'ST KITTS AND NEVIS', 'ANTIGUA AND BARBUDA', 'MONTSERRAT',\n",
       "       'DOMINICA', 'ST LUCIA', 'ST VINCENT AND THE GRENADINES', 'GRENADA',\n",
       "       'BARBADOS', 'TRINIDAD AND TOBAGO', 'SINT MAARTEN', 'CURACAO',\n",
       "       'ARUBA', 'GUADELOUPE', 'MARTINIQUE', 'COLOMBIA', 'VENEZUELA',\n",
       "       'GUYANA', 'SURINAME', 'FRENCH GUIANA', 'ECUADOR', 'PERU', 'CHILE',\n",
       "       'BRAZIL', 'URUGUAY', 'ARGENTINA', 'ICELAND', 'SWEDEN',\n",
       "       'SVALBARD, JAN MAYEN ISLAND', 'NORWAY', 'FINLAND', 'DENMARK',\n",
       "       'UNITED KINGDOM', 'IRELAND', 'NETHERLANDS', 'BELGIUM', 'FRANCE',\n",
       "       'GERMANY', 'AUSTRIA', 'CZECH REPUBLIC', 'HUNGARY', 'SWITZERLAND',\n",
       "       'ESTONIA', 'LATVIA', 'LITHUANIA', 'POLAND', 'RUSSIA', 'UKRAINE',\n",
       "       'GEORGIA', 'KAZAKHSTAN', 'SPAIN', 'PORTUGAL', 'MALTA', 'ITALY',\n",
       "       'ALBANIA', 'GREECE', 'ROMANIA', 'BULGARIA', 'TURKEY', 'CYPRUS',\n",
       "       'LEBANON', 'IRAQ', 'IRAN', 'ISRAEL', 'JORDAN', 'KUWAIT',\n",
       "       'SAUDI ARABIA', 'QATAR', 'UNITED ARAB EMIRATES', 'OMAN', 'BAHRAIN',\n",
       "       'AFGHANISTAN', 'INDIA', 'PAKISTAN', 'BANGLADESH', 'SRI LANKA',\n",
       "       'BURMA', 'THAILAND', 'VIETNAM', 'CAMBODIA', 'MALAYSIA',\n",
       "       'SINGAPORE', 'INDONESIA', 'BRUNEI', 'PHILIPPINES', 'MACAU',\n",
       "       'CHINA', 'MONGOLIA', 'KOREA, SOUTH', 'HONG KONG', 'TAIWAN',\n",
       "       'JAPAN', 'AUSTRALIA', 'NEW ZEALAND', 'COOK ISLANDS', 'SAMOA',\n",
       "       'TUVALU', 'NEW CALEDONIA', 'FRENCH POLYNESIA', 'MARSHALL ISLANDS',\n",
       "       'MICRONESIA', 'PALAU', 'NAURU', 'FIJI', 'TONGA', 'MOROCCO',\n",
       "       'ALGERIA', 'TUNISIA', 'EGYPT', 'EQUATORIAL GUINEA', 'MALI',\n",
       "       'GUINEA', 'GHANA', 'NIGERIA', 'CHAD', 'DJIBOUTI', 'SEYCHELLES',\n",
       "       'BRITISH INDIAN OCEAN TERRITORIES', 'MAURITIUS', 'REUNION',\n",
       "       'SOUTH AFRICA', 'ESWATINI', 'MALAWI', 'OPEC', 'EUROPEAN UNION',\n",
       "       'PACIFIC RIM COUNTRIES', 'CAFTA-DR', 'NAFTA',\n",
       "       'TWENTY LATIN AMERICAN REPUBLICS', 'OECD', 'NATO', 'LAFTA',\n",
       "       'EURO AREA', 'APEC', 'ASEAN', 'CACM', 'NORTH AMERICA',\n",
       "       'CENTRAL AMERICA', 'SOUTH AMERICA', 'EUROPE', 'ASIA',\n",
       "       'AUSTRALIA AND OCEANIA', 'AFRICA'], dtype=object)"
      ]
     },
     "execution_count": 8,
     "metadata": {},
     "output_type": "execute_result"
    }
   ],
   "source": [
    "df.CTY_NAME.unique()"
   ]
  },
  {
   "cell_type": "code",
   "execution_count": 9,
   "metadata": {},
   "outputs": [
    {
     "data": {
      "text/html": [
       "<div>\n",
       "<style scoped>\n",
       "    .dataframe tbody tr th:only-of-type {\n",
       "        vertical-align: middle;\n",
       "    }\n",
       "\n",
       "    .dataframe tbody tr th {\n",
       "        vertical-align: top;\n",
       "    }\n",
       "\n",
       "    .dataframe thead th {\n",
       "        text-align: right;\n",
       "    }\n",
       "</style>\n",
       "<table border=\"1\" class=\"dataframe\">\n",
       "  <thead>\n",
       "    <tr style=\"text-align: right;\">\n",
       "      <th></th>\n",
       "      <th>CTY_NAME</th>\n",
       "      <th>time</th>\n",
       "      <th>exports</th>\n",
       "      <th>hs4</th>\n",
       "    </tr>\n",
       "  </thead>\n",
       "  <tbody>\n",
       "    <tr>\n",
       "      <th>0</th>\n",
       "      <td>TOTAL FOR ALL COUNTRIES</td>\n",
       "      <td>2013-01-01</td>\n",
       "      <td>58109297.0</td>\n",
       "      <td>0306</td>\n",
       "    </tr>\n",
       "    <tr>\n",
       "      <th>1</th>\n",
       "      <td>TOTAL FOR ALL COUNTRIES</td>\n",
       "      <td>2013-02-01</td>\n",
       "      <td>67784422.0</td>\n",
       "      <td>0306</td>\n",
       "    </tr>\n",
       "    <tr>\n",
       "      <th>2</th>\n",
       "      <td>TOTAL FOR ALL COUNTRIES</td>\n",
       "      <td>2013-03-01</td>\n",
       "      <td>78140862.0</td>\n",
       "      <td>0306</td>\n",
       "    </tr>\n",
       "    <tr>\n",
       "      <th>3</th>\n",
       "      <td>TOTAL FOR ALL COUNTRIES</td>\n",
       "      <td>2013-04-01</td>\n",
       "      <td>52701883.0</td>\n",
       "      <td>0306</td>\n",
       "    </tr>\n",
       "    <tr>\n",
       "      <th>4</th>\n",
       "      <td>TOTAL FOR ALL COUNTRIES</td>\n",
       "      <td>2013-05-01</td>\n",
       "      <td>43229949.0</td>\n",
       "      <td>0306</td>\n",
       "    </tr>\n",
       "  </tbody>\n",
       "</table>\n",
       "</div>"
      ],
      "text/plain": [
       "                  CTY_NAME       time     exports   hs4\n",
       "0  TOTAL FOR ALL COUNTRIES 2013-01-01  58109297.0  0306\n",
       "1  TOTAL FOR ALL COUNTRIES 2013-02-01  67784422.0  0306\n",
       "2  TOTAL FOR ALL COUNTRIES 2013-03-01  78140862.0  0306\n",
       "3  TOTAL FOR ALL COUNTRIES 2013-04-01  52701883.0  0306\n",
       "4  TOTAL FOR ALL COUNTRIES 2013-05-01  43229949.0  0306"
      ]
     },
     "execution_count": 9,
     "metadata": {},
     "output_type": "execute_result"
    }
   ],
   "source": [
    "df.head()"
   ]
  },
  {
   "cell_type": "code",
   "execution_count": 10,
   "metadata": {},
   "outputs": [],
   "source": [
    "df = df[[\"CTY_NAME\",\"time\",\"exports\"]]"
   ]
  },
  {
   "cell_type": "code",
   "execution_count": 11,
   "metadata": {},
   "outputs": [],
   "source": [
    "grp = df.groupby([\"CTY_NAME\"])\n",
    "\n",
    "top_products = grp.agg({\"exports\":\"sum\"})\n",
    "\n",
    "#clist = list(top_products.sort_values(by = \"total_imports\", ascending = False).index.values)[0:5]\n",
    "\n",
    "clist = [\"TOTAL FOR ALL COUNTRIES\", \"CHINA\", \"EUROPEAN UNION\"]\n",
    "\n",
    "df = df[df.CTY_NAME.isin(clist)]"
   ]
  },
  {
   "cell_type": "code",
   "execution_count": 12,
   "metadata": {},
   "outputs": [],
   "source": [
    "grp = df.groupby([\"CTY_NAME\"])\n",
    "\n",
    "country_df = grp.apply(growth_trade)"
   ]
  },
  {
   "cell_type": "code",
   "execution_count": 13,
   "metadata": {},
   "outputs": [],
   "source": [
    "def make_trade_time_country(df):\n",
    "        \n",
    "    foo = df.reset_index().pivot(index = \"time\", columns = \"CTY_NAME\")\n",
    "    \n",
    "    foo.drop(labels = [\"index\"], axis = 1, inplace = True)\n",
    "    \n",
    "    return foo"
   ]
  },
  {
   "cell_type": "code",
   "execution_count": 14,
   "metadata": {},
   "outputs": [],
   "source": [
    "test = make_trade_time_country(country_df)"
   ]
  },
  {
   "cell_type": "code",
   "execution_count": 15,
   "metadata": {},
   "outputs": [
    {
     "data": {
      "text/html": [
       "<div>\n",
       "<style scoped>\n",
       "    .dataframe tbody tr th:only-of-type {\n",
       "        vertical-align: middle;\n",
       "    }\n",
       "\n",
       "    .dataframe tbody tr th {\n",
       "        vertical-align: top;\n",
       "    }\n",
       "\n",
       "    .dataframe thead tr th {\n",
       "        text-align: left;\n",
       "    }\n",
       "\n",
       "    .dataframe thead tr:last-of-type th {\n",
       "        text-align: right;\n",
       "    }\n",
       "</style>\n",
       "<table border=\"1\" class=\"dataframe\">\n",
       "  <thead>\n",
       "    <tr>\n",
       "      <th></th>\n",
       "      <th colspan=\"3\" halign=\"left\">exports</th>\n",
       "      <th colspan=\"3\" halign=\"left\">growth</th>\n",
       "    </tr>\n",
       "    <tr>\n",
       "      <th>CTY_NAME</th>\n",
       "      <th>CHINA</th>\n",
       "      <th>EUROPEAN UNION</th>\n",
       "      <th>TOTAL FOR ALL COUNTRIES</th>\n",
       "      <th>CHINA</th>\n",
       "      <th>EUROPEAN UNION</th>\n",
       "      <th>TOTAL FOR ALL COUNTRIES</th>\n",
       "    </tr>\n",
       "    <tr>\n",
       "      <th>time</th>\n",
       "      <th></th>\n",
       "      <th></th>\n",
       "      <th></th>\n",
       "      <th></th>\n",
       "      <th></th>\n",
       "      <th></th>\n",
       "    </tr>\n",
       "  </thead>\n",
       "  <tbody>\n",
       "    <tr>\n",
       "      <th>2013-01-01</th>\n",
       "      <td>9662748.0</td>\n",
       "      <td>10119033.0</td>\n",
       "      <td>58109297.0</td>\n",
       "      <td>NaN</td>\n",
       "      <td>NaN</td>\n",
       "      <td>NaN</td>\n",
       "    </tr>\n",
       "    <tr>\n",
       "      <th>2013-02-01</th>\n",
       "      <td>22255301.0</td>\n",
       "      <td>12066452.0</td>\n",
       "      <td>67784422.0</td>\n",
       "      <td>NaN</td>\n",
       "      <td>NaN</td>\n",
       "      <td>NaN</td>\n",
       "    </tr>\n",
       "    <tr>\n",
       "      <th>2013-03-01</th>\n",
       "      <td>29596815.0</td>\n",
       "      <td>9273155.0</td>\n",
       "      <td>78140862.0</td>\n",
       "      <td>NaN</td>\n",
       "      <td>NaN</td>\n",
       "      <td>NaN</td>\n",
       "    </tr>\n",
       "    <tr>\n",
       "      <th>2013-04-01</th>\n",
       "      <td>17381308.0</td>\n",
       "      <td>8725589.0</td>\n",
       "      <td>52701883.0</td>\n",
       "      <td>NaN</td>\n",
       "      <td>NaN</td>\n",
       "      <td>NaN</td>\n",
       "    </tr>\n",
       "    <tr>\n",
       "      <th>2013-05-01</th>\n",
       "      <td>7842250.0</td>\n",
       "      <td>13269168.0</td>\n",
       "      <td>43229949.0</td>\n",
       "      <td>NaN</td>\n",
       "      <td>NaN</td>\n",
       "      <td>NaN</td>\n",
       "    </tr>\n",
       "  </tbody>\n",
       "</table>\n",
       "</div>"
      ],
      "text/plain": [
       "               exports                                        growth  \\\n",
       "CTY_NAME         CHINA EUROPEAN UNION TOTAL FOR ALL COUNTRIES  CHINA   \n",
       "time                                                                   \n",
       "2013-01-01   9662748.0     10119033.0              58109297.0    NaN   \n",
       "2013-02-01  22255301.0     12066452.0              67784422.0    NaN   \n",
       "2013-03-01  29596815.0      9273155.0              78140862.0    NaN   \n",
       "2013-04-01  17381308.0      8725589.0              52701883.0    NaN   \n",
       "2013-05-01   7842250.0     13269168.0              43229949.0    NaN   \n",
       "\n",
       "                                                   \n",
       "CTY_NAME   EUROPEAN UNION TOTAL FOR ALL COUNTRIES  \n",
       "time                                               \n",
       "2013-01-01            NaN                     NaN  \n",
       "2013-02-01            NaN                     NaN  \n",
       "2013-03-01            NaN                     NaN  \n",
       "2013-04-01            NaN                     NaN  \n",
       "2013-05-01            NaN                     NaN  "
      ]
     },
     "execution_count": 15,
     "metadata": {},
     "output_type": "execute_result"
    }
   ],
   "source": [
    "test.head()"
   ]
  },
  {
   "cell_type": "code",
   "execution_count": 16,
   "metadata": {},
   "outputs": [],
   "source": [
    "def make_time_by_country(df, level):\n",
    "\n",
    "    height = 533\n",
    "    width = 600\n",
    "\n",
    "    foobar = make_trade_time_country(df)\n",
    "    \n",
    "    if level == \"exports\":\n",
    "        title = \"$ US Exports of Lobsters (HS 0306), China, EU, Total\"\n",
    "        \n",
    "        #foobar.drop([ \"TOTAL FOR ALL COUNTRIES\"], axis = 1, level = 1, inplace = True)\n",
    "    \n",
    "    if level == \"growth\":\n",
    "        title = \"% YoY Change in US Exports of Lobsters (HS 0306), China, EU, Total\"\n",
    "    \n",
    "    p = figure(plot_height=height, plot_width = width, x_axis_type=\"datetime\",toolbar_location = 'below',\n",
    "           tools = \"box_zoom, reset, pan, xwheel_zoom,ywheel_zoom\", title = title, x_range = (dt.datetime(2015,1,1),dt.datetime(2020,last_month,1)) ) \n",
    "\n",
    "    numlines=len(foobar[level].columns)\n",
    "\n",
    "    multi_line_source = ColumnDataSource({\n",
    "        'xs': [foobar.index.values]*numlines,\n",
    "        'ys': [foobar[level, name].values for name in foobar[level]],\n",
    "        'label': [name for name in foobar[\"exports\"].columns],\n",
    "        'color': [\"crimson\", \"darkblue\", \"slategrey\"]})\n",
    "\n",
    "    p.multi_line(xs= \"xs\",\n",
    "                ys= \"ys\",\n",
    "                line_width=2.5, line_alpha=0.45, line_color = \"color\",\n",
    "                 hover_line_alpha=0.75, hover_line_width = 5,\n",
    "                hover_line_color= \"color\", source = multi_line_source)\n",
    "    \n",
    "    y_custom = CustomJSHover(code=\"\"\" return '' + special_vars.data_y\n",
    "            \"\"\")\n",
    "            \n",
    "    TIMETOOLTIPS = \"\"\"\n",
    "            <div style=\"background-color:#F5F5F5; opacity: 0.95; border: 5px 5px 5px 5px;\">\n",
    "            <div style = \"text-align:left;\">\n",
    "            <span style=\"font-size: 13px; font-weight: bold\"> @label\n",
    "             </span>\n",
    "             </div>\n",
    "             <div style = \"text-align:left;\">\"\"\"\n",
    "    \n",
    "    if level == \"exports\":\n",
    "        TIMETOOLTIPS = TIMETOOLTIPS + \"\"\"\n",
    "            <span style=\"font-size: 13px; font-weight: bold\"> $data_x{%b %Y}:  $data_y{$0.0a}</span>   \n",
    "            </div>\n",
    "            </div>\n",
    "            \"\"\"\n",
    "    if level == \"growth\":\n",
    "        TIMETOOLTIPS = TIMETOOLTIPS + \"\"\"\n",
    "            <span style=\"font-size: 13px; font-weight: bold\"> $data_x{%b %Y}:  $data_y{0.0}%</span>   \n",
    "            </div>\n",
    "            </div>\n",
    "            \"\"\"\n",
    "\n",
    "    p.add_tools(HoverTool(tooltips = TIMETOOLTIPS,  line_policy='nearest', formatters={'$data_x': 'datetime'}))\n",
    "    p.title.text_font_size = '13pt'\n",
    "    p.background_fill_color = background \n",
    "    p.background_fill_alpha = 0.75\n",
    "    p.border_fill_color = background \n",
    "    \n",
    "    \n",
    "    tradewar_box = BoxAnnotation(left=dt.datetime(2018,7,1), right=dt.datetime(2019,10,11), fill_color='slategrey', fill_alpha=0.1)\n",
    "    p.add_layout(tradewar_box)\n",
    "    \n",
    "    tradewar_box = BoxAnnotation(left=dt.datetime(2020,1,1), right=dt.datetime(2020,12,31), fill_color='blue', fill_alpha=0.1)\n",
    "    p.add_layout(tradewar_box)\n",
    "    \n",
    "    #p.yaxis.axis_label = \n",
    "    p.yaxis.axis_label_text_font_style = 'bold'\n",
    "    p.yaxis.axis_label_text_font_size = \"13px\"\n",
    "\n",
    "    p.yaxis.minor_tick_line_color = None\n",
    "    \n",
    "    if level == \"exports\":\n",
    "        p.yaxis.formatter = NumeralTickFormatter(format=\"($0. a)\")\n",
    "        p.y_range.end = 45000000\n",
    "        \n",
    "    if level == \"growth\":\n",
    "        p.y_range.end = 125\n",
    "    \n",
    "    p.outline_line_color = None\n",
    "    p.sizing_mode= \"scale_both\"\n",
    "    p.max_height = height\n",
    "    p.max_width = width\n",
    "    \n",
    "    p.toolbar.active_drag = None\n",
    "    p.toolbar.autohide = True\n",
    "    p.min_border_left = 0\n",
    "    p.min_border_bottom = 0\n",
    "\n",
    "    return p"
   ]
  },
  {
   "cell_type": "code",
   "execution_count": 17,
   "metadata": {},
   "outputs": [],
   "source": [
    "clevel = make_time_by_country(country_df, \"exports\")\n",
    "    \n",
    "cchange = make_time_by_country(country_df, \"growth\")\n",
    "\n",
    "tab3 = Panel(child= clevel, title=\"Imports in $\")\n",
    "\n",
    "tab4 = Panel(child= cchange, title=\"Imports as % YoY\")\n",
    "\n",
    "output_file('.\\\\docs\\\\' + \"us_exports_lobster.html\")\n",
    "\n",
    "div0 = Div(text = \"\"\"Shaded grey area indicates when the Section 301 tariffs on China were in place and retaliation.\n",
    "Blue is period of agreement. Hover over the line with your curser to view month by month values.\"\"\", max_width=555, background = background )\n",
    "div0.sizing_mode= \"scale_both\"\n",
    "        \n",
    "outfig = column(Tabs(tabs=[tab3,  tab4], tabs_location = \"above\"), div0, sizing_mode=\"scale_both\")\n",
    "\n",
    "show(outfig)"
   ]
  },
  {
   "cell_type": "code",
   "execution_count": 18,
   "metadata": {},
   "outputs": [
    {
     "data": {
      "text/plain": [
       "array(['TOTAL FOR ALL COUNTRIES', 'CHINA', 'EUROPEAN UNION'], dtype=object)"
      ]
     },
     "execution_count": 18,
     "metadata": {},
     "output_type": "execute_result"
    }
   ],
   "source": [
    "country_df.CTY_NAME.unique()"
   ]
  },
  {
   "cell_type": "code",
   "execution_count": null,
   "metadata": {},
   "outputs": [],
   "source": []
  }
 ],
 "metadata": {
  "kernelspec": {
   "display_name": "Python 3",
   "language": "python",
   "name": "python3"
  },
  "language_info": {
   "codemirror_mode": {
    "name": "ipython",
    "version": 3
   },
   "file_extension": ".py",
   "mimetype": "text/x-python",
   "name": "python",
   "nbconvert_exporter": "python",
   "pygments_lexer": "ipython3",
   "version": "3.7.3"
  }
 },
 "nbformat": 4,
 "nbformat_minor": 4
}
